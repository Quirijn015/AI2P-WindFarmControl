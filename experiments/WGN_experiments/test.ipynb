{
 "cells": [
  {
   "cell_type": "code",
   "id": "initial_id",
   "metadata": {
    "collapsed": true,
    "ExecuteTime": {
     "end_time": "2024-10-31T17:31:16.896309Z",
     "start_time": "2024-10-31T17:31:08.354687Z"
    }
   },
   "source": [
    "import torch\n",
    "\n",
    "import numpy as np\n",
    "import torch.nn as nn\n",
    "\n",
    "from architecture.WGN.wgn import WGN\n",
    "import matplotlib.pyplot as plt\n",
    "from torch_geometric.data import Batch"
   ],
   "outputs": [],
   "execution_count": 1
  },
  {
   "metadata": {
    "ExecuteTime": {
     "end_time": "2024-10-31T17:31:17.654579Z",
     "start_time": "2024-10-31T17:31:17.645913Z"
    }
   },
   "cell_type": "code",
   "source": "from architecture.WGN.wgn import WGN",
   "id": "dfe6e88f756cf548",
   "outputs": [],
   "execution_count": 2
  },
  {
   "metadata": {
    "ExecuteTime": {
     "end_time": "2024-10-31T17:31:18.503172Z",
     "start_time": "2024-10-31T17:31:18.495060Z"
    }
   },
   "cell_type": "code",
   "source": [
    "model_cfg = {\n",
    "        'edge_in_dim': 2,\n",
    "        'node_in_dim': 4,\n",
    "        'global_in_dim': 2,\n",
    "        'n_pign_layers': 3,\n",
    "        'edge_hidden_dim': 50,\n",
    "        'node_hidden_dim': 50,\n",
    "        'global_hidden_dim': 50,\n",
    "        'num_nodes': 10,\n",
    "        'residual': True,\n",
    "        'input_norm': True,\n",
    "        'pign_mlp_params': {\n",
    "            'num_neurons': [256, 128],\n",
    "            'hidden_act': 'ReLU',\n",
    "            'out_act': 'ReLU'\n",
    "        },\n",
    "        'mlp_params': {\n",
    "            'num_neurons': [128, 128, 64],\n",
    "        },\n",
    "        'deconv_params':{\n",
    "            'layer_channels': [64, 128, 256, 1],\n",
    "        }\n",
    "}"
   ],
   "id": "203eef7ea3ce3dfb",
   "outputs": [],
   "execution_count": 3
  },
  {
   "metadata": {
    "ExecuteTime": {
     "end_time": "2024-10-31T17:31:19.601232Z",
     "start_time": "2024-10-31T17:31:19.224806Z"
    }
   },
   "cell_type": "code",
   "source": [
    "model = WGN(**model_cfg)\n",
    "model.load_state_dict(torch.load(\"WGN_parameters/WGN_299.pt\"))"
   ],
   "id": "717b6738b7cdb0c1",
   "outputs": [
    {
     "name": "stderr",
     "output_type": "stream",
     "text": [
      "C:\\Users\\quiri\\AppData\\Local\\Temp\\ipykernel_66092\\613394992.py:2: FutureWarning: You are using `torch.load` with `weights_only=False` (the current default value), which uses the default pickle module implicitly. It is possible to construct malicious pickle data which will execute arbitrary code during unpickling (See https://github.com/pytorch/pytorch/blob/main/SECURITY.md#untrusted-models for more details). In a future release, the default value for `weights_only` will be flipped to `True`. This limits the functions that could be executed during unpickling. Arbitrary objects will no longer be allowed to be loaded via this mode unless they are explicitly allowlisted by the user via `torch.serialization.add_safe_globals`. We recommend you start setting `weights_only=True` for any use case where you don't have full control of the loaded file. Please open an issue on GitHub for any issues related to this experimental feature.\n",
      "  model.load_state_dict(torch.load(\"WGN_parameters/WGN_299.pt\"))\n"
     ]
    },
    {
     "data": {
      "text/plain": [
       "<All keys matched successfully>"
      ]
     },
     "execution_count": 4,
     "metadata": {},
     "output_type": "execute_result"
    }
   ],
   "execution_count": 4
  },
  {
   "metadata": {},
   "cell_type": "code",
   "outputs": [],
   "execution_count": null,
   "source": "",
   "id": "cd725ec2f17afe8e"
  }
 ],
 "metadata": {
  "kernelspec": {
   "display_name": "Python 3",
   "language": "python",
   "name": "python3"
  },
  "language_info": {
   "codemirror_mode": {
    "name": "ipython",
    "version": 2
   },
   "file_extension": ".py",
   "mimetype": "text/x-python",
   "name": "python",
   "nbconvert_exporter": "python",
   "pygments_lexer": "ipython2",
   "version": "2.7.6"
  }
 },
 "nbformat": 4,
 "nbformat_minor": 5
}
